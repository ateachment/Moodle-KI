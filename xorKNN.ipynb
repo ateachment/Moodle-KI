{
  "nbformat": 4,
  "nbformat_minor": 0,
  "metadata": {
    "colab": {
      "provenance": [],
      "collapsed_sections": [],
      "authorship_tag": "ABX9TyMQwNGqrAHNbCMqr2FWiQ0z",
      "include_colab_link": true
    },
    "kernelspec": {
      "name": "python3",
      "display_name": "Python 3"
    },
    "language_info": {
      "name": "python"
    }
  },
  "cells": [
    {
      "cell_type": "markdown",
      "metadata": {
        "id": "view-in-github",
        "colab_type": "text"
      },
      "source": [
        "<a href=\"https://colab.research.google.com/github/ateachment/Moodle-KI/blob/main/xorKNN.ipynb\" target=\"_parent\"><img src=\"https://colab.research.google.com/assets/colab-badge.svg\" alt=\"Open In Colab\"/></a>"
      ]
    },
    {
      "cell_type": "markdown",
      "source": [
        "# Training of XOR"
      ],
      "metadata": {
        "id": "21mkdGBRFSgw"
      }
    },
    {
      "cell_type": "code",
      "execution_count": 54,
      "metadata": {
        "id": "h2yXEO3uaGFH"
      },
      "outputs": [],
      "source": [
        "import numpy as np\n",
        "import matplotlib.pyplot as plt"
      ]
    },
    {
      "cell_type": "markdown",
      "source": [
        "### Activation Functions ###"
      ],
      "metadata": {
        "id": "SejZE3ovJn3B"
      }
    },
    {
      "cell_type": "code",
      "source": [
        "# not suitable\n",
        "def linear(x):\n",
        "  return x\n",
        "def linearDerived(output):\n",
        "  return 1\n",
        "def step(x):\n",
        "  return (x > 0) * 1    # if x > 0 then return 1, else return 0 \n",
        "def stepDerived(x):\n",
        "  return (x == 0) * float(\"inf\")    # if x > 0 then return infinite (endless), else return 0 \n",
        "\n",
        "# suitable\n",
        "def relu(x):\n",
        "  return (x > 0) * x    # if x > 0 then return x, else return 0 \n",
        "def reluDerived(output):\n",
        "  return output > 0     # if output > 0 then return True, else return False\n",
        "\n",
        "def sigmoid(x):         \n",
        "  return 1/(1 + np.exp(-x))\n",
        "def sigmoidDerived(output):   # derived sigmoid (derive = dt. ableiten)\n",
        "  return output * (1 - output)\n",
        "\n",
        "def tanh(x):         \n",
        "  return 2/(1 + np.exp(-2*x)) - 1\n",
        "def tanhDerived(output):   # derived sigmoid (derive = dt. ableiten)\n",
        "  return 1 - output**2\n",
        "\n"
      ],
      "metadata": {
        "id": "8V83xaSSao7C"
      },
      "execution_count": 57,
      "outputs": []
    },
    {
      "cell_type": "markdown",
      "source": [
        "### Training"
      ],
      "metadata": {
        "id": "rlthOcFuQrQB"
      }
    },
    {
      "cell_type": "code",
      "source": [
        "inputs = np.array([[0,0],\n",
        "                   [0,1],\n",
        "                   [1,0],\n",
        "                   [1,1]])\n",
        "\n",
        "output = np.array([[0,1,1,0]]).T\n",
        "\n",
        "hidden_size = 3 # hidden layer with 3 neurons\n",
        "\n",
        "def train(iterations, alpha, activFunc, activFuncDerived):\n",
        "  weights_0_1 = 2 * np.random.random((2, hidden_size)) - 1   # random -1 <-> +1\n",
        "  weights_1_2 = 2 * np.random.random((hidden_size, 1)) - 1\n",
        "  print(\"Randomly initialized weights:\")\n",
        "  print(weights_0_1)\n",
        "  print(weights_1_2)\n",
        "\n",
        "  iterationList = []\n",
        "  layer_2_errorList = []\n",
        "\n",
        "  for iteration in range(iterations):\n",
        "    layer_2_error = 0\n",
        "    for i in range(len(inputs)):\n",
        "      layer_0 = inputs[i:i+1]\n",
        "      z = np.dot(layer_0, weights_0_1)\n",
        "      layer_1 = activFunc(np.dot(layer_0, weights_0_1))  \n",
        "      layer_2 = np.dot(layer_1, weights_1_2)\n",
        "      layer_2_delta = (layer_2 - output[i:i+1])\n",
        "      layer_1_delta = layer_2_delta.dot(weights_1_2.T * activFuncDerived(layer_1))\n",
        "\n",
        "      weights_1_2 -= alpha * layer_1.T.dot(layer_2_delta)\n",
        "      weights_0_1 -= alpha * layer_0.T.dot(layer_1_delta)\n",
        "\n",
        "      layer_2_error += np.sum(layer_2_delta **2)\n",
        "\n",
        "    if iteration % 10 == 9:\n",
        "      print(\"Error:\" + str(layer_2_error))\n",
        "      iterationList.append(iteration)                   # collect plotting data\n",
        "      layer_2_errorList.append(layer_2_error)\n",
        "      plt.plot(iterationList, layer_2_errorList,'r')\n",
        "      plt.xlabel('iteration')\n",
        "      plt.ylabel('error')\n",
        "\n",
        "  print(\"Trained weights:\")\n",
        "  print(weights_0_1)\n",
        "  print(weights_1_2)\n",
        "\n",
        "#train(10, 0.01, linear, linearDerived)       # here no convergence\n",
        "#train(200, 0.8, sigmoid, sigmoidDerived)     # convergence\n",
        "train(200, 0.1, tanh, tanhDerived )           \n",
        "#train(60, 0.2, relu, reluDerived)            # converges here sometimes if enough positive weights\n",
        "#train(10, 0.01, step, stepDerived)           # fails always\n",
        "\n"
      ],
      "metadata": {
        "colab": {
          "base_uri": "https://localhost:8080/",
          "height": 846
        },
        "id": "VNLoD_Vmaypc",
        "outputId": "53fb710b-feb6-4b77-a6b3-79216251ad30"
      },
      "execution_count": 60,
      "outputs": [
        {
          "output_type": "stream",
          "name": "stdout",
          "text": [
            "Randomly initialized weights:\n",
            "[[-0.06467004  0.72944072 -0.66134887]\n",
            " [ 0.91107375 -0.95986873 -0.18832813]]\n",
            "[[ 0.74812068]\n",
            " [-0.83933947]\n",
            " [-0.03614717]]\n",
            "Error:1.3907037006525464\n",
            "Error:1.2191293312834999\n",
            "Error:1.1290171366045567\n",
            "Error:1.0441276443630048\n",
            "Error:0.9638543989797766\n",
            "Error:0.8922262246261853\n",
            "Error:0.8291768750628239\n",
            "Error:0.7705005354003205\n",
            "Error:0.7103045510739611\n",
            "Error:0.641764346487816\n",
            "Error:0.5576552861854457\n",
            "Error:0.4558202263406451\n",
            "Error:0.3458492579700427\n",
            "Error:0.24318873349583842\n",
            "Error:0.15857036467661145\n",
            "Error:0.09592336779556304\n",
            "Error:0.05405575260063997\n",
            "Error:0.028631315249637405\n",
            "Error:0.014420545471294108\n",
            "Error:0.006988655277580056\n",
            "Trained weights:\n",
            "[[ 1.83664012  0.42644347 -1.13647619]\n",
            " [ 1.76589213 -1.33596899  0.20806306]]\n",
            "[[1.6528099 ]\n",
            " [0.97873857]\n",
            " [1.23923391]]\n"
          ]
        },
        {
          "output_type": "display_data",
          "data": {
            "text/plain": [
              "<Figure size 432x288 with 1 Axes>"
            ],
            "image/png": "[encoded data removed]"
          },
          "metadata": {
            "needs_background": "light"
          }
        }
      ]
    }
  ]
}