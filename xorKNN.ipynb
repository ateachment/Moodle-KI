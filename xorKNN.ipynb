{
  "nbformat": 4,
  "nbformat_minor": 0,
  "metadata": {
    "colab": {
      "provenance": [],
      "collapsed_sections": [],
      "authorship_tag": "ABX9TyMYVCjps0IUMTpBxdwmgRM1",
      "include_colab_link": true
    },
    "kernelspec": {
      "name": "python3",
      "display_name": "Python 3"
    },
    "language_info": {
      "name": "python"
    }
  },
  "cells": [
    {
      "cell_type": "markdown",
      "metadata": {
        "id": "view-in-github",
        "colab_type": "text"
      },
      "source": [
        "<a href=\"https://colab.research.google.com/github/ateachment/Moodle-KI/blob/main/xorKNN.ipynb\" target=\"_parent\"><img src=\"https://colab.research.google.com/assets/colab-badge.svg\" alt=\"Open In Colab\"/></a>"
      ]
    },
    {
      "cell_type": "markdown",
      "source": [
        "# Training of XOR"
      ],
      "metadata": {
        "id": "21mkdGBRFSgw"
      }
    },
    {
      "cell_type": "code",
      "execution_count": 8,
      "metadata": {
        "id": "h2yXEO3uaGFH"
      },
      "outputs": [],
      "source": [
        "import numpy as np\n",
        "import matplotlib.pyplot as plt"
      ]
    },
    {
      "cell_type": "markdown",
      "source": [
        "### Activation Functions ###"
      ],
      "metadata": {
        "id": "SejZE3ovJn3B"
      }
    },
    {
      "cell_type": "code",
      "source": [
        "# not suitable\n",
        "def linear(x):\n",
        "  return x\n",
        "def linearDerived(output):\n",
        "  return 1\n",
        "def step(x):\n",
        "  return (x > 0) * 1    # if x > 0 then return 1, else return 0 \n",
        "def stepDerived(x):\n",
        "  return (x == 0) * float(\"inf\")    # if x > 0 then return infinite (endless), else return 0 \n",
        "\n",
        "# suitable\n",
        "def relu(x):\n",
        "  return (x > 0) * x    # if x > 0 then return x, else return 0 \n",
        "def reluDerived(output):\n",
        "  return output > 0     # if output > 0 then return True, else return False\n",
        "\n",
        "def sigmoid(x):         \n",
        "  return 1/(1 + np.exp(-x))\n",
        "def sigmoidDerived(output):   # derived sigmoid (derive = dt. ableiten)\n",
        "  return output * (1 - output)"
      ],
      "metadata": {
        "id": "8V83xaSSao7C"
      },
      "execution_count": 9,
      "outputs": []
    },
    {
      "cell_type": "markdown",
      "source": [
        "### Training"
      ],
      "metadata": {
        "id": "rlthOcFuQrQB"
      }
    },
    {
      "cell_type": "code",
      "source": [
        "inputs = np.array([[0,0],\n",
        "                   [0,1],\n",
        "                   [1,0],\n",
        "                   [1,1]])\n",
        "\n",
        "output = np.array([[0,1,1,0]]).T\n",
        "\n",
        "hidden_size = 3 # hidden layer with 3 neurons\n",
        "\n",
        "def train(iterations, alpha, activFunc, activFuncDerived):\n",
        "  weights_0_1 = 2 * np.random.random((2, hidden_size)) - 1   # random -1 <-> +1\n",
        "  weights_1_2 = 2 * np.random.random((hidden_size, 1)) - 1\n",
        "  print(\"Randomly initialized weights:\")\n",
        "  print(weights_0_1)\n",
        "  print(weights_1_2)\n",
        "\n",
        "  iterationList = []\n",
        "  layer_2_errorList = []\n",
        "\n",
        "  for iteration in range(iterations):\n",
        "    layer_2_error = 0\n",
        "    for i in range(len(inputs)):\n",
        "      layer_0 = inputs[i:i+1]\n",
        "      z = np.dot(layer_0, weights_0_1)\n",
        "      layer_1 = activFunc(np.dot(layer_0, weights_0_1))  \n",
        "      layer_2 = np.dot(layer_1, weights_1_2)\n",
        "      layer_2_delta = (layer_2 - output[i:i+1])\n",
        "      layer_1_delta = layer_2_delta.dot(weights_1_2.T * activFuncDerived(layer_1))\n",
        "\n",
        "      weights_1_2 -= alpha * layer_1.T.dot(layer_2_delta)\n",
        "      weights_0_1 -= alpha * layer_0.T.dot(layer_1_delta)\n",
        "\n",
        "      layer_2_error += np.sum(layer_2_delta **2)\n",
        "\n",
        "    if iteration % 10 == 9:\n",
        "      print(\"Error:\" + str(layer_2_error))\n",
        "      iterationList.append(iteration)                   # collect plotting data\n",
        "      layer_2_errorList.append(layer_2_error)\n",
        "      plt.plot(iterationList, layer_2_errorList,'r')\n",
        "      plt.xlabel('iteration')\n",
        "      plt.ylabel('error')\n",
        "\n",
        "  print(\"Trained weights:\")\n",
        "  print(weights_0_1)\n",
        "  print(weights_1_2)\n",
        "\n",
        "#train(10, 0.01, linear, linearDerived)       # here no convergence\n",
        "train(200, 0.8, sigmoid, sigmoidDerived)     # convergence\n",
        "#train(60, 0.2, relu, reluDerived)            # converges here sometimes if enough positive weights\n",
        "#train(10, 0.01, step, stepDerived)           # fails always\n",
        "\n"
      ],
      "metadata": {
        "colab": {
          "base_uri": "https://localhost:8080/",
          "height": 510
        },
        "id": "VNLoD_Vmaypc",
        "outputId": "2252e521-319c-44db-8041-58325a154ac2"
      },
      "execution_count": 42,
      "outputs": [
        {
          "output_type": "stream",
          "name": "stdout",
          "text": [
            "Randomly initialized weights:\n",
            "[[-0.21762164 -0.91422226  0.31811849]\n",
            " [-0.34958158  0.36973015 -0.59041274]]\n",
            "[[ 0.215668  ]\n",
            " [-0.23910214]\n",
            " [-0.39245807]]\n",
            "Error:1.6719304263949333\n",
            "Trained weights:\n",
            "[[-0.20289299 -0.9334218   0.28716028]\n",
            " [-0.33478433  0.35049266 -0.62042578]]\n",
            "[[ 0.17398628]\n",
            " [-0.28200193]\n",
            " [-0.41439935]]\n"
          ]
        },
        {
          "output_type": "display_data",
          "data": {
            "text/plain": [
              "<Figure size 432x288 with 1 Axes>"
            ],
            "image/png": "[encoded data removed]"
          },
          "metadata": {
            "needs_background": "light"
          }
        }
      ]
    }
  ]
}